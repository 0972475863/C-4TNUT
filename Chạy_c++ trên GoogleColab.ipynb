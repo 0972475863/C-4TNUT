{
  "nbformat": 4,
  "nbformat_minor": 0,
  "metadata": {
    "colab": {
      "provenance": [],
      "authorship_tag": "ABX9TyNVGgnh6hHHoShc92IGhW8Z",
      "include_colab_link": true
    },
    "kernelspec": {
      "name": "python3",
      "display_name": "Python 3"
    },
    "language_info": {
      "name": "python"
    }
  },
  "cells": [
    {
      "cell_type": "markdown",
      "metadata": {
        "id": "view-in-github",
        "colab_type": "text"
      },
      "source": [
        "<a href=\"https://colab.research.google.com/github/huynguyen82/C-4TNUT/blob/main/Ch%E1%BA%A1y_c%2B%2B%20tr%C3%AAn%20GoogleColab.ipynb\" target=\"_parent\"><img src=\"https://colab.research.google.com/assets/colab-badge.svg\" alt=\"Open In Colab\"/></a>"
      ]
    },
    {
      "cell_type": "markdown",
      "source": [
        "# Lập trình C++ dùng google colab => Chỉ cần 1 thiết bị duyệt được WEB, không cần máy tính, không cần cài đặt phần mềm.\n",
        "- Để chạy được chương trình bạn cần đăng nhập tài khoản google\n",
        "- Chú ý mỗi session chỉ tồn tại trong 8 tiếng, từ máy ảo của google cho bạn dùng miễn phí mỗi lần bật máy là 8 giờ, sau đó google sẽ yêu cầu tắt máy. Vì thế để tiết kiệm bạn chỉ lên bật khi chạy thử code.\n",
        "\n",
        "**Bước 1 viết chương trình**: Chương trình viết theo cú pháp thông thương, chỉ cần chú ý cần LỆNH yêu cầu ghi toàn bộ nội dung code ra 1 file .cpp\n",
        "Cú pháp:\n",
        "-----------------\n",
        "%%writefile <ten_file.cpp>\n",
        "#include <iostream>\n",
        "using namespace std;\n",
        "int main(){\n",
        "  // Chương trình chính của bạn ở đây\n",
        "  return 0;\n",
        "}\n"
      ],
      "metadata": {
        "id": "ZpXR5aMAF-Rp"
      }
    },
    {
      "cell_type": "code",
      "execution_count": 8,
      "metadata": {
        "colab": {
          "base_uri": "https://localhost:8080/"
        },
        "id": "jzxEt_CkEqMm",
        "outputId": "de0906d5-542d-4a3f-82a1-106a6bfa2d06"
      },
      "outputs": [
        {
          "output_type": "stream",
          "name": "stdout",
          "text": [
            "Overwriting test.cpp\n"
          ]
        }
      ],
      "source": [
        "%%writefile test.cpp\n",
        "#include <iostream>\n",
        "using namespace std;\n",
        "int main(){\n",
        "    cout<<\"Hello wold\";\n",
        "    return 0;\n",
        "}"
      ]
    },
    {
      "cell_type": "markdown",
      "source": [
        "**Biên dịch chương trình đã lưu trong file <ten_file.cpp>* thành file mã máy (tức là biên dịch từ ngôn ngữ C++ thành ngôn ngữ mà Máy tính hiểu, thứ ngôn ngữ chỉ được tạo bởi 2 ký tự 0 và 1.**"
      ],
      "metadata": {
        "id": "Qs5HKr-LHhcp"
      }
    },
    {
      "cell_type": "code",
      "source": [
        "!g++ test.cpp -o test"
      ],
      "metadata": {
        "id": "QqaIK_MrFe52"
      },
      "execution_count": 9,
      "outputs": []
    },
    {
      "cell_type": "markdown",
      "source": [
        "** Nếu quá trình trên không báo lỗi, ta chạy lệnh sau để xem file mã máy đã được sinh ra chưa**"
      ],
      "metadata": {
        "id": "51kNAky3HxmU"
      }
    },
    {
      "cell_type": "code",
      "source": [
        "!ls"
      ],
      "metadata": {
        "colab": {
          "base_uri": "https://localhost:8080/"
        },
        "id": "gCjYQIL_Fw7V",
        "outputId": "ce8414d8-8e14-44c9-892c-584efbdf30ab"
      },
      "execution_count": 10,
      "outputs": [
        {
          "output_type": "stream",
          "name": "stdout",
          "text": [
            "sample_data  test  test.cpp\n"
          ]
        }
      ]
    },
    {
      "cell_type": "markdown",
      "source": [
        "** Cuối cùng là chạy thử chương trình trên máy ảo của Google** bạn sẽ thấy kết quả của chương trình ..."
      ],
      "metadata": {
        "id": "Tmfs5-chH-EW"
      }
    },
    {
      "cell_type": "code",
      "source": [
        "!./test"
      ],
      "metadata": {
        "colab": {
          "base_uri": "https://localhost:8080/"
        },
        "id": "e2GVl7EfF6pr",
        "outputId": "8681f5f5-00ec-4d70-9f6a-03133bb1aca7"
      },
      "execution_count": 11,
      "outputs": [
        {
          "output_type": "stream",
          "name": "stdout",
          "text": [
            "Hello wold"
          ]
        }
      ]
    }
  ]
}